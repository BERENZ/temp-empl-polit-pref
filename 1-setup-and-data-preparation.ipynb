{
  "nbformat": 4,
  "nbformat_minor": 0,
  "metadata": {
    "colab": {
      "name": "1-setup-and-data-preparation.ipynb",
      "provenance": [],
      "collapsed_sections": [],
      "toc_visible": true,
      "authorship_tag": "ABX9TyN7MHTYOoo7IKR/jSQp+EOS",
      "include_colab_link": true
    },
    "kernelspec": {
      "name": "ir",
      "display_name": "R"
    }
  },
  "cells": [
    {
      "cell_type": "markdown",
      "metadata": {
        "id": "view-in-github",
        "colab_type": "text"
      },
      "source": [
        "<a href=\"https://colab.research.google.com/github/BERENZ/temp-empl-polit-pref/blob/main/1-setup-and-data-preparation.ipynb\" target=\"_parent\"><img src=\"https://colab.research.google.com/assets/colab-badge.svg\" alt=\"Open In Colab\"/></a>"
      ]
    },
    {
      "cell_type": "markdown",
      "metadata": {
        "id": "zeaMGlLe_dRt"
      },
      "source": [
        "# Install required packages"
      ]
    },
    {
      "cell_type": "code",
      "metadata": {
        "colab": {
          "base_uri": "https://localhost:8080/"
        },
        "id": "ZY3_264u-YEv",
        "outputId": "29c854cc-59d7-4f71-e96c-a71b10d1c4e3"
      },
      "source": [
        "install.packages(\"tidyverse\")\n",
        "install.packages(\"data.table\")\n",
        "install.packages(\"lmtest\")\n",
        "install.packages(\"sandwich\")\n",
        "install.packages(\"survey\")\n",
        "install.packages(\"broom\")\n",
        "install.packages(\"stringi\")\n",
        "install.packages(\"validate\")\n",
        "install.packages(\"VIM\")\n",
        "install.packages(\"haven\")\n",
        "install.packages(\"lme4\")\n",
        "install.packages(\"lmerTest\")\n",
        "install.packages(\"bife\")"
      ],
      "execution_count": 1,
      "outputs": [
        {
          "output_type": "stream",
          "text": [
            "Installing package into ‘/usr/local/lib/R/site-library’\n",
            "(as ‘lib’ is unspecified)\n",
            "\n",
            "Installing package into ‘/usr/local/lib/R/site-library’\n",
            "(as ‘lib’ is unspecified)\n",
            "\n",
            "Installing package into ‘/usr/local/lib/R/site-library’\n",
            "(as ‘lib’ is unspecified)\n",
            "\n",
            "also installing the dependency ‘zoo’\n",
            "\n",
            "\n",
            "Installing package into ‘/usr/local/lib/R/site-library’\n",
            "(as ‘lib’ is unspecified)\n",
            "\n",
            "Installing package into ‘/usr/local/lib/R/site-library’\n",
            "(as ‘lib’ is unspecified)\n",
            "\n",
            "also installing the dependencies ‘minqa’, ‘numDeriv’, ‘mitools’\n",
            "\n",
            "\n",
            "Installing package into ‘/usr/local/lib/R/site-library’\n",
            "(as ‘lib’ is unspecified)\n",
            "\n",
            "Installing package into ‘/usr/local/lib/R/site-library’\n",
            "(as ‘lib’ is unspecified)\n",
            "\n",
            "Installing package into ‘/usr/local/lib/R/site-library’\n",
            "(as ‘lib’ is unspecified)\n",
            "\n",
            "also installing the dependency ‘settings’\n",
            "\n",
            "\n",
            "Installing package into ‘/usr/local/lib/R/site-library’\n",
            "(as ‘lib’ is unspecified)\n",
            "\n",
            "also installing the dependencies ‘matrixStats’, ‘RcppArmadillo’, ‘SparseM’, ‘MatrixModels’, ‘conquer’, ‘openxlsx’, ‘nloptr’, ‘statmod’, ‘carData’, ‘abind’, ‘pbkrtest’, ‘quantreg’, ‘maptools’, ‘rio’, ‘lme4’, ‘DEoptimR’, ‘RcppEigen’, ‘car’, ‘robustbase’, ‘sp’, ‘vcd’, ‘e1071’, ‘laeken’, ‘ranger’\n",
            "\n",
            "\n",
            "Installing package into ‘/usr/local/lib/R/site-library’\n",
            "(as ‘lib’ is unspecified)\n",
            "\n",
            "Installing package into ‘/usr/local/lib/R/site-library’\n",
            "(as ‘lib’ is unspecified)\n",
            "\n",
            "Installing package into ‘/usr/local/lib/R/site-library’\n",
            "(as ‘lib’ is unspecified)\n",
            "\n",
            "Installing package into ‘/usr/local/lib/R/site-library’\n",
            "(as ‘lib’ is unspecified)\n",
            "\n",
            "also installing the dependency ‘Formula’\n",
            "\n",
            "\n"
          ],
          "name": "stderr"
        }
      ]
    },
    {
      "cell_type": "markdown",
      "metadata": {
        "id": "1ZSpVrMk_gjK"
      },
      "source": [
        "# Structure of the project\n",
        "\n",
        "Create structure of the project and download required data"
      ]
    },
    {
      "cell_type": "code",
      "metadata": {
        "id": "wD2cYqnk-l1H"
      },
      "source": [
        "## structure of the project\n",
        "if (!dir.exists(\"codes\")) dir.create(\"codes\")\n",
        "if (!dir.exists(\"results\")) dir.create(\"results\")\n",
        "if (!dir.exists(\"data\")) dir.create(\"data\")\n",
        "if (!dir.exists(\"data-raw\")) dir.create(\"data-raw\")\n",
        "\n",
        "## download data from Diagnoza.com\n",
        "if (!file.exists(\"data-raw/hh_data.sav\")) {\n",
        "  download.file(\"http://diagnoza.com/pliki/bazy_danych/2015/ds_0_15_GD_14112015.sav\", destfile = \"data-raw/hh_data.sav\") \n",
        "  gosp <- haven::read_spss(\"data-raw/hh_data.sav\", user_na = TRUE)\n",
        "  saveRDS(gosp, file = \"data/hh_data.RDS\")\n",
        "}\n",
        "if (!file.exists(\"data-raw/ind_data.sav\")) {\n",
        "  download.file(\"http://diagnoza.com/pliki/bazy_danych/2015/ds_0_15_ind_14112015.sav\", destfile = \"data-raw/ind_data.sav\") \n",
        "  osob <- haven::read_spss(\"data-raw/ind_data.sav\", user_na = TRUE)\n",
        "  saveRDS(osob, file = \"data/ind_data.RDS\")\n",
        "}"
      ],
      "execution_count": 2,
      "outputs": []
    },
    {
      "cell_type": "markdown",
      "metadata": {
        "id": "ZsUkHaiX_r7h"
      },
      "source": [
        "# Data analysis \n",
        "\n",
        "## Packages and data"
      ]
    },
    {
      "cell_type": "code",
      "metadata": {
        "id": "EEDHuDUA_L86"
      },
      "source": [
        "library(tidyverse)\n",
        "library(data.table)\n",
        "library(lmtest)\n",
        "library(sandwich)\n",
        "library(survey)\n",
        "library(broom)\n",
        "library(stringi)\n",
        "library(Matrix)\n",
        "library(validate)\n",
        "library(VIM)\n",
        "library(haven)"
      ],
      "execution_count": null,
      "outputs": []
    },
    {
      "cell_type": "code",
      "metadata": {
        "id": "aLB58pUH-pXZ"
      },
      "source": [
        "gosp <- readRDS(\"data/hh_data.RDS\")\n",
        "osob <- readRDS(\"data/ind_data.RDS\")"
      ],
      "execution_count": 4,
      "outputs": []
    },
    {
      "cell_type": "code",
      "metadata": {
        "colab": {
          "base_uri": "https://localhost:8080/",
          "height": 35
        },
        "id": "plJyAQBcC1i4",
        "outputId": "aa4620f5-cefc-456b-a186-895c16d934d3"
      },
      "source": [
        "ls()"
      ],
      "execution_count": 5,
      "outputs": [
        {
          "output_type": "display_data",
          "data": {
            "text/plain": [
              "[1] \"gosp\" \"osob\""
            ],
            "text/latex": "\\begin{enumerate*}\n\\item 'gosp'\n\\item 'osob'\n\\end{enumerate*}\n",
            "text/markdown": "1. 'gosp'\n2. 'osob'\n\n\n",
            "text/html": [
              "<style>\n",
              ".list-inline {list-style: none; margin:0; padding: 0}\n",
              ".list-inline>li {display: inline-block}\n",
              ".list-inline>li:not(:last-child)::after {content: \"\\00b7\"; padding: 0 .5ex}\n",
              "</style>\n",
              "<ol class=list-inline><li>'gosp'</li><li>'osob'</li></ol>\n"
            ]
          },
          "metadata": {
            "tags": []
          }
        }
      ]
    },
    {
      "cell_type": "markdown",
      "metadata": {
        "id": "MOVr6Yvc_SNW"
      },
      "source": [
        "## Read data \n",
        "\n",
        "Variables used in the study\n",
        "\n",
        "+ Abstention and Gov_support -- fp106, GP98, HP101\n",
        "+ Gov_respons -- ep57, ep58_1, fp59, fp60_1, GP57, GP58_1, HP60, HP61_1\n",
        "+ Inc_equal -- ep56_26, fp58_21, GP54_18, HP57_14\n",
        "+ Fixed_temp, Other_temp, Permanent, Init_temp  -- ed05, fD5, GD5, HD5 \n",
        "+ Inc_instab_often, Inc_instab_some, Inc_instab_never -- ep14, fp14, GP13, HP13\n",
        "+ Sat_fin_neg, Sat_fin_neut, Sat_fin_pos -- ep64_2, fp63_2, GP62_02, HP63_02\n",
        "+ Sat_work_neg, Sat_work_neut, Sat_work_pos -- ep64_17, fp63_13, GP62_13, HP63_13\n",
        "+ Public -- status9_2009, status9_2011, status9_2013, status9_2015\n",
        "+ Female - GENDER\n",
        "+ Tert_post_edu, Up_second_edu, Low_voc_edu, Primary_edu -- educ4_2009, educ4_2011, educ4_2013, educ4_2015\n",
        "+ Age -- AGE2009, AGE2011, AGE2013, AGE2015\n",
        "+ WAVE -- F2009, F2011, F2013, F2015\n",
        "\n",
        "**new variables**\n",
        "\n",
        "+ In_education -- ec15, fc19, GC19, HC19\n",
        "+ Income_source -- ec39, fc37, GC32, HC32\n",
        "+ Occupation -- ed18_22, FD18_19, GD18_19, HD18_19\n"
      ]
    },
    {
      "cell_type": "code",
      "metadata": {
        "colab": {
          "base_uri": "https://localhost:8080/",
          "height": 295
        },
        "id": "eyUneU-z_S9O",
        "outputId": "f25d7434-3329-4c16-b2ab-f0be67ceeb29"
      },
      "source": [
        "gosp  %>%\n",
        "  select(gosp_id = numer_gd,\n",
        "         f2000:f2015,\n",
        "         L_OSOB_2000:L_OSOB_2015,\n",
        "         WAGA_GD_2000:WAGA_GD_2015,\n",
        "         klm = KLASA_MIEJSCOWOSCI,\n",
        "         woj = WOJEWODZTWO,\n",
        "         pow = POWIAT) %>%\n",
        "  mutate(gosp_id = as.integer(gosp_id)) %>%\n",
        "  set_names(tolower(names(.))) -> gosp_subset\n",
        "head(gosp_subset)"
      ],
      "execution_count": 6,
      "outputs": [
        {
          "output_type": "display_data",
          "data": {
            "text/plain": [
              "  gosp_id f2000 f2003 f2005 f2007 f2009 f2011 f2013 f2015 l_osob_2000 ⋯\n",
              "1 1       1     NA    NA    NA    NA    NA    NA    NA    6           ⋯\n",
              "2 2       1      1     1     1     1     1     1     1    2           ⋯\n",
              "3 3       1      1     1    NA    NA    NA    NA    NA    6           ⋯\n",
              "4 4       1      1     1     1     1    NA    NA    NA    2           ⋯\n",
              "5 5       1     NA    NA    NA    NA    NA    NA    NA    2           ⋯\n",
              "6 6       1      1     1     1     1    NA    NA    NA    3           ⋯\n",
              "  waga_gd_2003 waga_gd_2005 waga_gd_2007 waga_gd_2009 waga_gd_2011 waga_gd_2013\n",
              "1 0.000000     0.000000     0.0000000    0.000000     0.000000           NA    \n",
              "2 1.251585     1.112111     0.3304216    0.350743     0.318502     0.458628    \n",
              "3 0.640080     0.666600     0.0000000    0.000000     0.000000           NA    \n",
              "4 1.251585     1.112111     1.5144856    1.297467     0.000000           NA    \n",
              "5 0.000000     0.000000     0.0000000    0.000000     0.000000           NA    \n",
              "6 1.083564     1.112111     1.7968025    1.927316     0.000000           NA    \n",
              "  waga_gd_2015 klm woj pow\n",
              "1       NA     5   2    4 \n",
              "2 0.201015     6   2    4 \n",
              "3       NA     6   2   13 \n",
              "4       NA     5   2   13 \n",
              "5       NA     4   2    1 \n",
              "6       NA     4   2   14 "
            ],
            "text/latex": "A tibble: 6 × 28\n\\begin{tabular}{lllllllllllllllllllll}\n gosp\\_id & f2000 & f2003 & f2005 & f2007 & f2009 & f2011 & f2013 & f2015 & l\\_osob\\_2000 & ⋯ & waga\\_gd\\_2003 & waga\\_gd\\_2005 & waga\\_gd\\_2007 & waga\\_gd\\_2009 & waga\\_gd\\_2011 & waga\\_gd\\_2013 & waga\\_gd\\_2015 & klm & woj & pow\\\\\n <int> & <dbl> & <dbl> & <dbl> & <dbl> & <dbl> & <dbl> & <dbl> & <dbl> & <dbl+lbl> & ⋯ & <dbl+lbl> & <dbl+lbl> & <dbl+lbl> & <dbl+lbl> & <dbl+lbl> & <dbl> & <dbl> & <dbl+lbl> & <dbl+lbl> & <dbl>\\\\\n\\hline\n\t 1 & 1 & NA & NA & NA & NA & NA & NA & NA & 6 & ⋯ & 0.000000 & 0.000000 & 0.0000000 & 0.000000 & 0.000000 &       NA &       NA & 5 & 2 &  4\\\\\n\t 2 & 1 &  1 &  1 &  1 &  1 &  1 &  1 &  1 & 2 & ⋯ & 1.251585 & 1.112111 & 0.3304216 & 0.350743 & 0.318502 & 0.458628 & 0.201015 & 6 & 2 &  4\\\\\n\t 3 & 1 &  1 &  1 & NA & NA & NA & NA & NA & 6 & ⋯ & 0.640080 & 0.666600 & 0.0000000 & 0.000000 & 0.000000 &       NA &       NA & 6 & 2 & 13\\\\\n\t 4 & 1 &  1 &  1 &  1 &  1 & NA & NA & NA & 2 & ⋯ & 1.251585 & 1.112111 & 1.5144856 & 1.297467 & 0.000000 &       NA &       NA & 5 & 2 & 13\\\\\n\t 5 & 1 & NA & NA & NA & NA & NA & NA & NA & 2 & ⋯ & 0.000000 & 0.000000 & 0.0000000 & 0.000000 & 0.000000 &       NA &       NA & 4 & 2 &  1\\\\\n\t 6 & 1 &  1 &  1 &  1 &  1 & NA & NA & NA & 3 & ⋯ & 1.083564 & 1.112111 & 1.7968025 & 1.927316 & 0.000000 &       NA &       NA & 4 & 2 & 14\\\\\n\\end{tabular}\n",
            "text/markdown": "\nA tibble: 6 × 28\n\n| gosp_id &lt;int&gt; | f2000 &lt;dbl&gt; | f2003 &lt;dbl&gt; | f2005 &lt;dbl&gt; | f2007 &lt;dbl&gt; | f2009 &lt;dbl&gt; | f2011 &lt;dbl&gt; | f2013 &lt;dbl&gt; | f2015 &lt;dbl&gt; | l_osob_2000 &lt;dbl+lbl&gt; | ⋯ ⋯ | waga_gd_2003 &lt;dbl+lbl&gt; | waga_gd_2005 &lt;dbl+lbl&gt; | waga_gd_2007 &lt;dbl+lbl&gt; | waga_gd_2009 &lt;dbl+lbl&gt; | waga_gd_2011 &lt;dbl+lbl&gt; | waga_gd_2013 &lt;dbl&gt; | waga_gd_2015 &lt;dbl&gt; | klm &lt;dbl+lbl&gt; | woj &lt;dbl+lbl&gt; | pow &lt;dbl&gt; |\n|---|---|---|---|---|---|---|---|---|---|---|---|---|---|---|---|---|---|---|---|---|\n| 1 | 1 | NA | NA | NA | NA | NA | NA | NA | 6 | ⋯ | 0.000000 | 0.000000 | 0.0000000 | 0.000000 | 0.000000 |       NA |       NA | 5 | 2 |  4 |\n| 2 | 1 |  1 |  1 |  1 |  1 |  1 |  1 |  1 | 2 | ⋯ | 1.251585 | 1.112111 | 0.3304216 | 0.350743 | 0.318502 | 0.458628 | 0.201015 | 6 | 2 |  4 |\n| 3 | 1 |  1 |  1 | NA | NA | NA | NA | NA | 6 | ⋯ | 0.640080 | 0.666600 | 0.0000000 | 0.000000 | 0.000000 |       NA |       NA | 6 | 2 | 13 |\n| 4 | 1 |  1 |  1 |  1 |  1 | NA | NA | NA | 2 | ⋯ | 1.251585 | 1.112111 | 1.5144856 | 1.297467 | 0.000000 |       NA |       NA | 5 | 2 | 13 |\n| 5 | 1 | NA | NA | NA | NA | NA | NA | NA | 2 | ⋯ | 0.000000 | 0.000000 | 0.0000000 | 0.000000 | 0.000000 |       NA |       NA | 4 | 2 |  1 |\n| 6 | 1 |  1 |  1 |  1 |  1 | NA | NA | NA | 3 | ⋯ | 1.083564 | 1.112111 | 1.7968025 | 1.927316 | 0.000000 |       NA |       NA | 4 | 2 | 14 |\n\n",
            "text/html": [
              "<table class=\"dataframe\">\n",
              "<caption>A tibble: 6 × 28</caption>\n",
              "<thead>\n",
              "\t<tr><th scope=col>gosp_id</th><th scope=col>f2000</th><th scope=col>f2003</th><th scope=col>f2005</th><th scope=col>f2007</th><th scope=col>f2009</th><th scope=col>f2011</th><th scope=col>f2013</th><th scope=col>f2015</th><th scope=col>l_osob_2000</th><th scope=col>⋯</th><th scope=col>waga_gd_2003</th><th scope=col>waga_gd_2005</th><th scope=col>waga_gd_2007</th><th scope=col>waga_gd_2009</th><th scope=col>waga_gd_2011</th><th scope=col>waga_gd_2013</th><th scope=col>waga_gd_2015</th><th scope=col>klm</th><th scope=col>woj</th><th scope=col>pow</th></tr>\n",
              "\t<tr><th scope=col>&lt;int&gt;</th><th scope=col>&lt;dbl&gt;</th><th scope=col>&lt;dbl&gt;</th><th scope=col>&lt;dbl&gt;</th><th scope=col>&lt;dbl&gt;</th><th scope=col>&lt;dbl&gt;</th><th scope=col>&lt;dbl&gt;</th><th scope=col>&lt;dbl&gt;</th><th scope=col>&lt;dbl&gt;</th><th scope=col>&lt;dbl+lbl&gt;</th><th scope=col>⋯</th><th scope=col>&lt;dbl+lbl&gt;</th><th scope=col>&lt;dbl+lbl&gt;</th><th scope=col>&lt;dbl+lbl&gt;</th><th scope=col>&lt;dbl+lbl&gt;</th><th scope=col>&lt;dbl+lbl&gt;</th><th scope=col>&lt;dbl&gt;</th><th scope=col>&lt;dbl&gt;</th><th scope=col>&lt;dbl+lbl&gt;</th><th scope=col>&lt;dbl+lbl&gt;</th><th scope=col>&lt;dbl&gt;</th></tr>\n",
              "</thead>\n",
              "<tbody>\n",
              "\t<tr><td>1</td><td>1</td><td>NA</td><td>NA</td><td>NA</td><td>NA</td><td>NA</td><td>NA</td><td>NA</td><td>6</td><td>⋯</td><td>0.000000</td><td>0.000000</td><td>0.0000000</td><td>0.000000</td><td>0.000000</td><td>      NA</td><td>      NA</td><td>5</td><td>2</td><td> 4</td></tr>\n",
              "\t<tr><td>2</td><td>1</td><td> 1</td><td> 1</td><td> 1</td><td> 1</td><td> 1</td><td> 1</td><td> 1</td><td>2</td><td>⋯</td><td>1.251585</td><td>1.112111</td><td>0.3304216</td><td>0.350743</td><td>0.318502</td><td>0.458628</td><td>0.201015</td><td>6</td><td>2</td><td> 4</td></tr>\n",
              "\t<tr><td>3</td><td>1</td><td> 1</td><td> 1</td><td>NA</td><td>NA</td><td>NA</td><td>NA</td><td>NA</td><td>6</td><td>⋯</td><td>0.640080</td><td>0.666600</td><td>0.0000000</td><td>0.000000</td><td>0.000000</td><td>      NA</td><td>      NA</td><td>6</td><td>2</td><td>13</td></tr>\n",
              "\t<tr><td>4</td><td>1</td><td> 1</td><td> 1</td><td> 1</td><td> 1</td><td>NA</td><td>NA</td><td>NA</td><td>2</td><td>⋯</td><td>1.251585</td><td>1.112111</td><td>1.5144856</td><td>1.297467</td><td>0.000000</td><td>      NA</td><td>      NA</td><td>5</td><td>2</td><td>13</td></tr>\n",
              "\t<tr><td>5</td><td>1</td><td>NA</td><td>NA</td><td>NA</td><td>NA</td><td>NA</td><td>NA</td><td>NA</td><td>2</td><td>⋯</td><td>0.000000</td><td>0.000000</td><td>0.0000000</td><td>0.000000</td><td>0.000000</td><td>      NA</td><td>      NA</td><td>4</td><td>2</td><td> 1</td></tr>\n",
              "\t<tr><td>6</td><td>1</td><td> 1</td><td> 1</td><td> 1</td><td> 1</td><td>NA</td><td>NA</td><td>NA</td><td>3</td><td>⋯</td><td>1.083564</td><td>1.112111</td><td>1.7968025</td><td>1.927316</td><td>0.000000</td><td>      NA</td><td>      NA</td><td>4</td><td>2</td><td>14</td></tr>\n",
              "</tbody>\n",
              "</table>\n"
            ]
          },
          "metadata": {
            "tags": []
          }
        }
      ]
    },
    {
      "cell_type": "markdown",
      "metadata": {
        "id": "UG4yTM47_5_S"
      },
      "source": [
        "Cleaning the data\n",
        "\n",
        "- in 2005 -- hh no.: 2657 not in a wave but weight  > 0\n",
        "- w 2007 -- hh no.: 60,2379,10170  not in a wave but weight   > 0\n",
        "- w 2011 -- hh no.: c(2163L, 2165L, 2166L, 8176L, 8181L, 10694L, 31274L, 31290L,   31385L, 31387L, 38365L, 40412L, 40674L, 41569L, 45302L, 45722L,  45900L, 45901L, 47133L, 47349L, 50758L, 53883L, 54198L, 54199L,  54271L, 54272L, 54273L, 54348L, 54366L, 54370L, 54380L, 54707L) weight > 0\n",
        "- w 2013 -- hh no.: c(7337L, 27019L, 39798L, 46010L, 46221L, 51932L, 54748L, 100317L,  101345L)\n",
        "- w 2015 -- hh no.: c(2049L, 41576L, 51287L, 51513L)\n",
        "\n",
        "Differences between weights and number of observations\n",
        "- 2000 - yes, yes\n",
        "- 2003 - no (3961), no -> after changes yes\n",
        "- 2005 - no (3851), no -> yes\n",
        "- 2007 - yes, yes -> nie (wagi tez sie nie sumowly, 5532) \n",
        "- 2009 - yes, yes -> yes\n",
        "- 2011 - no (12381), no -> yes \n",
        "- 2013 - no (12352), no  -> yes\n",
        "- 2015 - no (11740), no -> nie (dwie za dużo)\n",
        "\n",
        "Numer of persons but weight is NA\n",
        "\n",
        "-- 2003 - 4330,\n",
        "-- 2005 -- 31 hh\n",
        "-- 2007 -- 30 hh\n",
        "-- 2011 -- 10 hh "
      ]
    },
    {
      "cell_type": "code",
      "metadata": {
        "colab": {
          "base_uri": "https://localhost:8080/",
          "height": 327
        },
        "id": "Tu59dT1F_3u2",
        "outputId": "44c634d2-92c5-4a98-f436-f6f816d94a84"
      },
      "source": [
        "gosp_subset %>% \n",
        "  mutate(waga_gd_2000 = as.numeric(unclass(waga_gd_2000)),\n",
        "         waga_gd_2003 = as.numeric(unclass(waga_gd_2003)),\n",
        "         waga_gd_2005 = as.numeric(unclass(waga_gd_2005)),\n",
        "         waga_gd_2007 = as.numeric(unclass(waga_gd_2007)),\n",
        "         waga_gd_2009 = as.numeric(unclass(waga_gd_2009)),\n",
        "         waga_gd_2011 = as.numeric(unclass(waga_gd_2011)),\n",
        "         waga_gd_2013 = as.numeric(unclass(waga_gd_2013)),\n",
        "         waga_gd_2015 = as.numeric(unclass(waga_gd_2015)),\n",
        "         f2000 = (as.numeric(waga_gd_2000) > 0)*1,\n",
        "         f2003 = (as.numeric(waga_gd_2003) > 0)*1,\n",
        "         f2005 = (as.numeric(waga_gd_2005) > 0)*1,\n",
        "         f2007 = (as.numeric(waga_gd_2007) > 0)*1,\n",
        "         f2009 = (as.numeric(waga_gd_2009) > 0)*1,\n",
        "         f2011 = (as.numeric(waga_gd_2011) > 0)*1,\n",
        "         f2013 = (as.numeric(waga_gd_2013) > 0)*1,\n",
        "         f2015 = (as.numeric(waga_gd_2015) > 0)*1,\n",
        "         waga_gd_2000 = ifelse(f2000 == 0, NA,waga_gd_2000),\n",
        "         waga_gd_2003 = ifelse(f2003 == 0, NA,waga_gd_2003),\n",
        "         waga_gd_2005 = ifelse(f2005 == 0, NA,waga_gd_2005),\n",
        "         waga_gd_2007 = ifelse(f2007 == 0, NA,waga_gd_2007),\n",
        "         waga_gd_2009 = ifelse(f2009 == 0, NA,waga_gd_2009),\n",
        "         waga_gd_2011 = ifelse(f2011 == 0, NA,waga_gd_2011),\n",
        "         waga_gd_2013 = ifelse(f2013 == 0, NA,waga_gd_2013),\n",
        "         waga_gd_2015 = ifelse(f2015 == 0, NA,waga_gd_2015)) %>%\n",
        "  mutate_at(vars(f2000:f2015), list(~ifelse(is.na(.),0,.))) %>%\n",
        "  mutate_at(vars(waga_gd_2000:waga_gd_2015),\n",
        "            list(~. / mean(., na.rm=T))) %>%\n",
        "  gather(fala, fala_vals, f2000:f2015) %>%\n",
        "  gather(osoby, osoby_vals, l_osob_2000:l_osob_2015) %>%\n",
        "  gather(waga, waga_vals, waga_gd_2000:waga_gd_2015) %>%\n",
        "  filter(fala_vals == 1) %>%\n",
        "  mutate_at(vars(fala,osoby,waga), list(~stri_extract_first_regex(., '\\\\d{4}'))) %>%\n",
        "  filter(fala == osoby, waga == fala, osoby == fala) %>%\n",
        "  select(-fala_vals,-osoby, -waga) %>%\n",
        "  rename(l_osob = osoby_vals, waga = waga_vals) -> gosp_cleaned\n",
        "\n",
        "head(gosp_cleaned)"
      ],
      "execution_count": 7,
      "outputs": [
        {
          "output_type": "stream",
          "text": [
            "Warning message:\n",
            "“attributes are not identical across measure variables;\n",
            "they will be dropped”\n"
          ],
          "name": "stderr"
        },
        {
          "output_type": "display_data",
          "data": {
            "text/plain": [
              "  gosp_id klm woj pow fala l_osob waga     \n",
              "1 1       5   2    4  2000 6      0.8433150\n",
              "2 2       6   2    4  2000 2      1.2784563\n",
              "3 3       6   2   13  2000 6      1.0417421\n",
              "4 4       5   2   13  2000 2      1.2784563\n",
              "5 5       4   2    1  2000 2      1.2784563\n",
              "6 6       4   2   14  2000 3      0.4906076"
            ],
            "text/latex": "A tibble: 6 × 7\n\\begin{tabular}{lllllll}\n gosp\\_id & klm & woj & pow & fala & l\\_osob & waga\\\\\n <int> & <dbl+lbl> & <dbl+lbl> & <dbl> & <chr> & <dbl> & <dbl>\\\\\n\\hline\n\t 1 & 5 & 2 &  4 & 2000 & 6 & 0.8433150\\\\\n\t 2 & 6 & 2 &  4 & 2000 & 2 & 1.2784563\\\\\n\t 3 & 6 & 2 & 13 & 2000 & 6 & 1.0417421\\\\\n\t 4 & 5 & 2 & 13 & 2000 & 2 & 1.2784563\\\\\n\t 5 & 4 & 2 &  1 & 2000 & 2 & 1.2784563\\\\\n\t 6 & 4 & 2 & 14 & 2000 & 3 & 0.4906076\\\\\n\\end{tabular}\n",
            "text/markdown": "\nA tibble: 6 × 7\n\n| gosp_id &lt;int&gt; | klm &lt;dbl+lbl&gt; | woj &lt;dbl+lbl&gt; | pow &lt;dbl&gt; | fala &lt;chr&gt; | l_osob &lt;dbl&gt; | waga &lt;dbl&gt; |\n|---|---|---|---|---|---|---|\n| 1 | 5 | 2 |  4 | 2000 | 6 | 0.8433150 |\n| 2 | 6 | 2 |  4 | 2000 | 2 | 1.2784563 |\n| 3 | 6 | 2 | 13 | 2000 | 6 | 1.0417421 |\n| 4 | 5 | 2 | 13 | 2000 | 2 | 1.2784563 |\n| 5 | 4 | 2 |  1 | 2000 | 2 | 1.2784563 |\n| 6 | 4 | 2 | 14 | 2000 | 3 | 0.4906076 |\n\n",
            "text/html": [
              "<table class=\"dataframe\">\n",
              "<caption>A tibble: 6 × 7</caption>\n",
              "<thead>\n",
              "\t<tr><th scope=col>gosp_id</th><th scope=col>klm</th><th scope=col>woj</th><th scope=col>pow</th><th scope=col>fala</th><th scope=col>l_osob</th><th scope=col>waga</th></tr>\n",
              "\t<tr><th scope=col>&lt;int&gt;</th><th scope=col>&lt;dbl+lbl&gt;</th><th scope=col>&lt;dbl+lbl&gt;</th><th scope=col>&lt;dbl&gt;</th><th scope=col>&lt;chr&gt;</th><th scope=col>&lt;dbl&gt;</th><th scope=col>&lt;dbl&gt;</th></tr>\n",
              "</thead>\n",
              "<tbody>\n",
              "\t<tr><td>1</td><td>5</td><td>2</td><td> 4</td><td>2000</td><td>6</td><td>0.8433150</td></tr>\n",
              "\t<tr><td>2</td><td>6</td><td>2</td><td> 4</td><td>2000</td><td>2</td><td>1.2784563</td></tr>\n",
              "\t<tr><td>3</td><td>6</td><td>2</td><td>13</td><td>2000</td><td>6</td><td>1.0417421</td></tr>\n",
              "\t<tr><td>4</td><td>5</td><td>2</td><td>13</td><td>2000</td><td>2</td><td>1.2784563</td></tr>\n",
              "\t<tr><td>5</td><td>4</td><td>2</td><td> 1</td><td>2000</td><td>2</td><td>1.2784563</td></tr>\n",
              "\t<tr><td>6</td><td>4</td><td>2</td><td>14</td><td>2000</td><td>3</td><td>0.4906076</td></tr>\n",
              "</tbody>\n",
              "</table>\n"
            ]
          },
          "metadata": {
            "tags": []
          }
        }
      ]
    },
    {
      "cell_type": "code",
      "metadata": {
        "id": "LqmelGpzACBE"
      },
      "source": [
        "saveRDS(object = gosp_cleaned, file = 'data/hh_subset.rds')"
      ],
      "execution_count": 8,
      "outputs": []
    },
    {
      "cell_type": "code",
      "metadata": {
        "id": "4wIKOkfqADHL"
      },
      "source": [
        "osob %>%\n",
        "  select(gosp_id = Nuner_GD, \n",
        "         person_num = NUMER_OSOBY,\n",
        "         person_id = numer150730,\n",
        "         sex = PLEC_ALL,\n",
        "         wiek2000:wiek2015,\n",
        "         woj = WOJEWODZTWO,\n",
        "         klm = KLASA_MIEJSCOWOSCI,\n",
        "         WAGA_2000_IND:WAGA_2015_IND, ## waga przypisana do osob \n",
        "         #WAGA_2000_OSOBY:WAGA_2015_OSOBY, ## waga przypisana do osob, które wypełniły kwestionariusz indyw\n",
        "         F2000:F2015, ## informacja czy dana osoba brała udział w określonej fali\n",
        "         INDYWIDUALNI_2000:INDYWIDUALNI_2015, ## czy braki udział w wypelnieniu ankiety indywidualnej\n",
        "         eduk4_2000:eduk4_2015, ## edukacja\n",
        "         status9_2000:status9_2015,\n",
        "         ## grupy zawodowe\n",
        "         zawod10_2009 = E_10GRUP_ZAWODOWYCH_OGOLEM, zawod10_2011 = F_10GRUP_ZAWODOWYCH_OGOLEM,\n",
        "         zawod10_2013 = G_10GRUP_ZAWODOWYCH_OGOLEM, zawod10_2015 = H_10GRUP_ZAWODOWYCH_OGOLEM,\n",
        "         ## dochody (teraz)\n",
        "         doch_2009 = ep66, doch_2011 = fp65, doch_2013 = GP64, doch_2015 = HP65, \n",
        "         ## dochody za 2 lata\n",
        "         doch2_2009 = ep67, doch2_2011 = fp66, doch2_2013 = GP65, doch2_2015 = HP66, \n",
        "         ## zadowolenie z pracy (dla pracujacych)\n",
        "         zadprac_2000 = ap77_20, zadprac_2003 = bp67_17, zadprac_2005 = cp67_17, zadprac_2007 = dp61_17,\n",
        "         zadprac_2009 = ep64_17,  zadprac_2011 = fp63_13, zadprac_2013 = GP62_13,  zadprac_2015 = HP63_13, \n",
        "         ## zadowolenie z sytuacji finansowej\n",
        "         zadfin_2000 = ap77_2, zadfin_2003 = bp67_2, zadfin_2005 = cp67_2, zadfin_2007 = dp61_2,\n",
        "         zadfin_2009 = ep64_2, zadfin_2011 = fp63_2, zadfin_2013 = GP62_02, zadfin_2015 = HP63_02,\n",
        "         ## niestabilność dochodów\n",
        "         niestab_2000 = ap18, niestab_2003 = bp17, niestab_2005 = cp17, niestab_2007 = dp17,\n",
        "         niestab_2009 = ep14, niestab_2011 = fp14, niestab_2013 = GP13, niestab_2015 = HP13,\n",
        "         ## rozdzaj pracy (wcześniej było pytanie czy to praca w pełnym wymiarze)\n",
        "         praca_2007 = dd5, praca_2009 = ed05, praca_2011 = fD5, praca_2013 = GD5, praca_2015 = HD5,\n",
        "         ## równosć dochodów\n",
        "         rowndoch_2005 = cp54_12, rowndoch_2007 = dp50_14,\n",
        "         rowndoch_2009 = ep56_26, rowndoch_2011 = fp58_21, rowndoch_2013 = GP54_18, rowndoch_2015 = HP57_14,\n",
        "         ## partie (nie ma wcześniejszych?)\n",
        "         partie_2011 = fp106, partie_2013 = GP98, partie_2015 = HP101,\n",
        "         ## sejm (wcześniejszych nie ma? )\n",
        "         sejm_2009 = ep101_2, sejm_2011 = fp98_3, sejm_2013 = GP104_03, sejm_2015 = HP105_03,\n",
        "         ## deomkaracja,\n",
        "         demo_2003 = bp99, demo_2005 = cp102, demo_2007 = dp71,\n",
        "         demo_2009 = ep102, demo_2011 = fp64, demo_2013 = GP63, demo_2015 = HP64,\n",
        "         ## bezrobocie\n",
        "         bezr_2009 = ed21, bezr_2011 = fD21, bezr_2013 = GD21, bezr_2015 = HD21,\n",
        "         ## zarejstrowany\n",
        "         bezrrej_2009 = ed20, bezrrej_2011 = fD20, bezrrej_2013 = GD20, bezrrej_2015 = HD20,\n",
        "         ## udane  życie\n",
        "         udane_2000 = ap75, udane_2003 = bp68, udane_2005 = cp64, udane_2007 = dp59, \n",
        "         udane_2009 = ep57, udane_2011 = fp59, udane_2013 = GP57, udane_2015 = HP60, \n",
        "         ## udane dzięki rządowi (w 2005 nie ma tego pytana)\n",
        "         udane2_2000 = ap76_1,  udane2_2003 = bp69_1, udane2_2007 = dp60_1, \n",
        "         udane2_2009 = ep58_1,  udane2_2011 = fp60_1, udane2_2013 = GP58_1, udane2_2015 = HP61_1,\n",
        "         ## inni ludzie \n",
        "         locinni_2009 = ep58_3,  locinni_2011 = fp60_3, locinni_2013 = GP58_3, locinni_2015 = HP61_3,\n",
        "         ## los\n",
        "         loclos_2009 = ep58_4,  loclos_2011 = fp60_4, loclos_2013 = GP58_4, loclos_2015 = HP61_4,\n",
        "         ## ode nich samych\n",
        "         losint_2009 = ep58_2,  losint_2011 = fp60_2, losint_2013 = GP58_2, losint_2015 = HP61_2,\n",
        "         ## poziom wyksz\n",
        "         pozwyk_2009 = poziom_wykształcenia_2009, pozwyk_2011 = poziom_wykształcenia_2011,\n",
        "         pozwyk_2013 = poziom_wykształcenia_2013, pozwyk_2015 = poziom_wykształcenia_2015,\n",
        "         ## new variables\n",
        "         ### #in education\n",
        "         inedu_2009 = ec15, inedu_2011 = fC19, inedu_2013 = GC19, inedu_2015 = HC19,\n",
        "         ## income source\n",
        "         incsource_2009 = ec39, incsource_2011 = fC37, incsource_2013 = GC32, incsource_2015 = HC32,\n",
        "         ## occupation\n",
        "         occup_2009 = e_zawod_ogolem, occup_2011 = F_ZAWOD_OGOLEM_SKR, occup_2013 = G_ZAWOD_OGOLEM_SKR, \n",
        "         occup_2015 = H_ZAWOD_OGOLEM_SKR\n",
        "         )  %>%\n",
        "  mutate_at(vars(F2000:F2015), list(~ifelse(is.na(.), 0, .)))  %>%\n",
        "  mutate_at(vars(INDYWIDUALNI_2000:INDYWIDUALNI_2015), list(~ifelse(is.na(.), 0, .)))  %>%\n",
        "  mutate_at(vars(WAGA_2000_IND:WAGA_2015_IND), list(~ifelse(is.na(.), 0, .)))  %>%\n",
        "  rename(f_2000 = F2000 , f_2003= F2003 ,  f_2005=F2005,  f_2007 = F2007,\n",
        "         f_2009 = F2009 , f_2011 = F2011, f_2013 = F2013, f_2015 = F2015,\n",
        "         wiek_2000 = wiek2000 , wiek_2003 = wiek2003 ,  wiek_2005=wiek2005,  wiek_2007 = wiek2007,\n",
        "         wiek_2009 = wiek2009 , wiek_2011 = wiek2011, wiek_2013 = wiek2013, wiek_2015 = wiek2015) -> osoby_df\n"
      ],
      "execution_count": 9,
      "outputs": []
    },
    {
      "cell_type": "code",
      "metadata": {
        "colab": {
          "base_uri": "https://localhost:8080/",
          "height": 485
        },
        "id": "_rHACMGvAIGa",
        "outputId": "d2d5ecad-c27c-485d-d39c-fcd403478c40"
      },
      "source": [
        "check_that(osoby_df,\n",
        "           if (F2005 == 1) INDYWIDUALNI_2005 > 0 ,\n",
        "           if (F2007 == 1) INDYWIDUALNI_2007 > 0 ,\n",
        "           if (F2009 == 1) INDYWIDUALNI_2009 > 0 ,\n",
        "           if (F2011 == 1) INDYWIDUALNI_2011 > 0 ,\n",
        "           if (F2013 == 1) INDYWIDUALNI_2013 > 0 ,\n",
        "           if (F2015 == 1) INDYWIDUALNI_2015 > 0 ,\n",
        "           if (F2005 == 1 & wiek2005 >=16) INDYWIDUALNI_2005 > 0 ,\n",
        "           if (F2007 == 1 & wiek2007 >=16) INDYWIDUALNI_2007 > 0 ,\n",
        "           if (F2009 == 1 & wiek2009 >=16) INDYWIDUALNI_2009 > 0 ,\n",
        "           if (F2011 == 1 & wiek2011 >=16) INDYWIDUALNI_2011 > 0 ,\n",
        "           if (F2013 == 1 & wiek2013 >=16) INDYWIDUALNI_2013 > 0 ,\n",
        "           if (F2015 == 1 & wiek2015 >=16) INDYWIDUALNI_2015 > 0 ,\n",
        "           # if (INDYWIDUALNI_2005 == 1) WAGA_2005_IND > 0 ,\n",
        "           # if (INDYWIDUALNI_2007 == 1) WAGA_2007_IND > 0 ,\n",
        "           # if (INDYWIDUALNI_2009 == 1) WAGA_2009_IND > 0 ,\n",
        "           # if (INDYWIDUALNI_2011 == 1) WAGA_2011_IND > 0 ,\n",
        "           # if (INDYWIDUALNI_2013 == 1) WAGA_2013_IND > 0 ,\n",
        "           # if (INDYWIDUALNI_2015 == 1) WAGA_2015_IND > 0 ,\n",
        "           if (INDYWIDUALNI_2015 == 1) partie_2015 > 0) %>%\n",
        "  summary()"
      ],
      "execution_count": 10,
      "outputs": [
        {
          "output_type": "display_data",
          "data": {
            "text/plain": [
              "   name items passes fails nNA error warning\n",
              "1  V01  0     0      0     0   TRUE  FALSE  \n",
              "2  V02  0     0      0     0   TRUE  FALSE  \n",
              "3  V03  0     0      0     0   TRUE  FALSE  \n",
              "4  V04  0     0      0     0   TRUE  FALSE  \n",
              "5  V05  0     0      0     0   TRUE  FALSE  \n",
              "6  V06  0     0      0     0   TRUE  FALSE  \n",
              "7  V07  0     0      0     0   TRUE  FALSE  \n",
              "8  V08  0     0      0     0   TRUE  FALSE  \n",
              "9  V09  0     0      0     0   TRUE  FALSE  \n",
              "10 V10  0     0      0     0   TRUE  FALSE  \n",
              "11 V11  0     0      0     0   TRUE  FALSE  \n",
              "12 V12  0     0      0     0   TRUE  FALSE  \n",
              "13 V13  0     0      0     0   TRUE  FALSE  \n",
              "   expression                                                          \n",
              "1  !(abs(F2005 - 1) < 1e-08) | (INDYWIDUALNI_2005 > 0)                 \n",
              "2  !(abs(F2007 - 1) < 1e-08) | (INDYWIDUALNI_2007 > 0)                 \n",
              "3  !(abs(F2009 - 1) < 1e-08) | (INDYWIDUALNI_2009 > 0)                 \n",
              "4  !(abs(F2011 - 1) < 1e-08) | (INDYWIDUALNI_2011 > 0)                 \n",
              "5  !(abs(F2013 - 1) < 1e-08) | (INDYWIDUALNI_2013 > 0)                 \n",
              "6  !(abs(F2015 - 1) < 1e-08) | (INDYWIDUALNI_2015 > 0)                 \n",
              "7  !(abs(F2005 - 1) < 1e-08 & wiek2005 >= 16) | (INDYWIDUALNI_2005 > 0)\n",
              "8  !(abs(F2007 - 1) < 1e-08 & wiek2007 >= 16) | (INDYWIDUALNI_2007 > 0)\n",
              "9  !(abs(F2009 - 1) < 1e-08 & wiek2009 >= 16) | (INDYWIDUALNI_2009 > 0)\n",
              "10 !(abs(F2011 - 1) < 1e-08 & wiek2011 >= 16) | (INDYWIDUALNI_2011 > 0)\n",
              "11 !(abs(F2013 - 1) < 1e-08 & wiek2013 >= 16) | (INDYWIDUALNI_2013 > 0)\n",
              "12 !(abs(F2015 - 1) < 1e-08 & wiek2015 >= 16) | (INDYWIDUALNI_2015 > 0)\n",
              "13 !(abs(INDYWIDUALNI_2015 - 1) < 1e-08) | (partie_2015 > 0)           "
            ],
            "text/latex": "A data.frame: 13 × 8\n\\begin{tabular}{llllllll}\n name & items & passes & fails & nNA & error & warning & expression\\\\\n <chr> & <int> & <dbl> & <dbl> & <dbl> & <lgl> & <lgl> & <chr>\\\\\n\\hline\n\t V01 & 0 & 0 & 0 & 0 & TRUE & FALSE & !(abs(F2005 - 1) < 1e-08) \\textbar{} (INDYWIDUALNI\\_2005 > 0)                 \\\\\n\t V02 & 0 & 0 & 0 & 0 & TRUE & FALSE & !(abs(F2007 - 1) < 1e-08) \\textbar{} (INDYWIDUALNI\\_2007 > 0)                 \\\\\n\t V03 & 0 & 0 & 0 & 0 & TRUE & FALSE & !(abs(F2009 - 1) < 1e-08) \\textbar{} (INDYWIDUALNI\\_2009 > 0)                 \\\\\n\t V04 & 0 & 0 & 0 & 0 & TRUE & FALSE & !(abs(F2011 - 1) < 1e-08) \\textbar{} (INDYWIDUALNI\\_2011 > 0)                 \\\\\n\t V05 & 0 & 0 & 0 & 0 & TRUE & FALSE & !(abs(F2013 - 1) < 1e-08) \\textbar{} (INDYWIDUALNI\\_2013 > 0)                 \\\\\n\t V06 & 0 & 0 & 0 & 0 & TRUE & FALSE & !(abs(F2015 - 1) < 1e-08) \\textbar{} (INDYWIDUALNI\\_2015 > 0)                 \\\\\n\t V07 & 0 & 0 & 0 & 0 & TRUE & FALSE & !(abs(F2005 - 1) < 1e-08 \\& wiek2005 >= 16) \\textbar{} (INDYWIDUALNI\\_2005 > 0)\\\\\n\t V08 & 0 & 0 & 0 & 0 & TRUE & FALSE & !(abs(F2007 - 1) < 1e-08 \\& wiek2007 >= 16) \\textbar{} (INDYWIDUALNI\\_2007 > 0)\\\\\n\t V09 & 0 & 0 & 0 & 0 & TRUE & FALSE & !(abs(F2009 - 1) < 1e-08 \\& wiek2009 >= 16) \\textbar{} (INDYWIDUALNI\\_2009 > 0)\\\\\n\t V10 & 0 & 0 & 0 & 0 & TRUE & FALSE & !(abs(F2011 - 1) < 1e-08 \\& wiek2011 >= 16) \\textbar{} (INDYWIDUALNI\\_2011 > 0)\\\\\n\t V11 & 0 & 0 & 0 & 0 & TRUE & FALSE & !(abs(F2013 - 1) < 1e-08 \\& wiek2013 >= 16) \\textbar{} (INDYWIDUALNI\\_2013 > 0)\\\\\n\t V12 & 0 & 0 & 0 & 0 & TRUE & FALSE & !(abs(F2015 - 1) < 1e-08 \\& wiek2015 >= 16) \\textbar{} (INDYWIDUALNI\\_2015 > 0)\\\\\n\t V13 & 0 & 0 & 0 & 0 & TRUE & FALSE & !(abs(INDYWIDUALNI\\_2015 - 1) < 1e-08) \\textbar{} (partie\\_2015 > 0)           \\\\\n\\end{tabular}\n",
            "text/markdown": "\nA data.frame: 13 × 8\n\n| name &lt;chr&gt; | items &lt;int&gt; | passes &lt;dbl&gt; | fails &lt;dbl&gt; | nNA &lt;dbl&gt; | error &lt;lgl&gt; | warning &lt;lgl&gt; | expression &lt;chr&gt; |\n|---|---|---|---|---|---|---|---|\n| V01 | 0 | 0 | 0 | 0 | TRUE | FALSE | !(abs(F2005 - 1) &lt; 1e-08) | (INDYWIDUALNI_2005 &gt; 0)                  |\n| V02 | 0 | 0 | 0 | 0 | TRUE | FALSE | !(abs(F2007 - 1) &lt; 1e-08) | (INDYWIDUALNI_2007 &gt; 0)                  |\n| V03 | 0 | 0 | 0 | 0 | TRUE | FALSE | !(abs(F2009 - 1) &lt; 1e-08) | (INDYWIDUALNI_2009 &gt; 0)                  |\n| V04 | 0 | 0 | 0 | 0 | TRUE | FALSE | !(abs(F2011 - 1) &lt; 1e-08) | (INDYWIDUALNI_2011 &gt; 0)                  |\n| V05 | 0 | 0 | 0 | 0 | TRUE | FALSE | !(abs(F2013 - 1) &lt; 1e-08) | (INDYWIDUALNI_2013 &gt; 0)                  |\n| V06 | 0 | 0 | 0 | 0 | TRUE | FALSE | !(abs(F2015 - 1) &lt; 1e-08) | (INDYWIDUALNI_2015 &gt; 0)                  |\n| V07 | 0 | 0 | 0 | 0 | TRUE | FALSE | !(abs(F2005 - 1) &lt; 1e-08 &amp; wiek2005 &gt;= 16) | (INDYWIDUALNI_2005 &gt; 0) |\n| V08 | 0 | 0 | 0 | 0 | TRUE | FALSE | !(abs(F2007 - 1) &lt; 1e-08 &amp; wiek2007 &gt;= 16) | (INDYWIDUALNI_2007 &gt; 0) |\n| V09 | 0 | 0 | 0 | 0 | TRUE | FALSE | !(abs(F2009 - 1) &lt; 1e-08 &amp; wiek2009 &gt;= 16) | (INDYWIDUALNI_2009 &gt; 0) |\n| V10 | 0 | 0 | 0 | 0 | TRUE | FALSE | !(abs(F2011 - 1) &lt; 1e-08 &amp; wiek2011 &gt;= 16) | (INDYWIDUALNI_2011 &gt; 0) |\n| V11 | 0 | 0 | 0 | 0 | TRUE | FALSE | !(abs(F2013 - 1) &lt; 1e-08 &amp; wiek2013 &gt;= 16) | (INDYWIDUALNI_2013 &gt; 0) |\n| V12 | 0 | 0 | 0 | 0 | TRUE | FALSE | !(abs(F2015 - 1) &lt; 1e-08 &amp; wiek2015 &gt;= 16) | (INDYWIDUALNI_2015 &gt; 0) |\n| V13 | 0 | 0 | 0 | 0 | TRUE | FALSE | !(abs(INDYWIDUALNI_2015 - 1) &lt; 1e-08) | (partie_2015 &gt; 0)            |\n\n",
            "text/html": [
              "<table class=\"dataframe\">\n",
              "<caption>A data.frame: 13 × 8</caption>\n",
              "<thead>\n",
              "\t<tr><th scope=col>name</th><th scope=col>items</th><th scope=col>passes</th><th scope=col>fails</th><th scope=col>nNA</th><th scope=col>error</th><th scope=col>warning</th><th scope=col>expression</th></tr>\n",
              "\t<tr><th scope=col>&lt;chr&gt;</th><th scope=col>&lt;int&gt;</th><th scope=col>&lt;dbl&gt;</th><th scope=col>&lt;dbl&gt;</th><th scope=col>&lt;dbl&gt;</th><th scope=col>&lt;lgl&gt;</th><th scope=col>&lt;lgl&gt;</th><th scope=col>&lt;chr&gt;</th></tr>\n",
              "</thead>\n",
              "<tbody>\n",
              "\t<tr><td>V01</td><td>0</td><td>0</td><td>0</td><td>0</td><td>TRUE</td><td>FALSE</td><td><span style=white-space:pre-wrap>!(abs(F2005 - 1) &lt; 1e-08) | (INDYWIDUALNI_2005 &gt; 0)                 </span></td></tr>\n",
              "\t<tr><td>V02</td><td>0</td><td>0</td><td>0</td><td>0</td><td>TRUE</td><td>FALSE</td><td><span style=white-space:pre-wrap>!(abs(F2007 - 1) &lt; 1e-08) | (INDYWIDUALNI_2007 &gt; 0)                 </span></td></tr>\n",
              "\t<tr><td>V03</td><td>0</td><td>0</td><td>0</td><td>0</td><td>TRUE</td><td>FALSE</td><td><span style=white-space:pre-wrap>!(abs(F2009 - 1) &lt; 1e-08) | (INDYWIDUALNI_2009 &gt; 0)                 </span></td></tr>\n",
              "\t<tr><td>V04</td><td>0</td><td>0</td><td>0</td><td>0</td><td>TRUE</td><td>FALSE</td><td><span style=white-space:pre-wrap>!(abs(F2011 - 1) &lt; 1e-08) | (INDYWIDUALNI_2011 &gt; 0)                 </span></td></tr>\n",
              "\t<tr><td>V05</td><td>0</td><td>0</td><td>0</td><td>0</td><td>TRUE</td><td>FALSE</td><td><span style=white-space:pre-wrap>!(abs(F2013 - 1) &lt; 1e-08) | (INDYWIDUALNI_2013 &gt; 0)                 </span></td></tr>\n",
              "\t<tr><td>V06</td><td>0</td><td>0</td><td>0</td><td>0</td><td>TRUE</td><td>FALSE</td><td><span style=white-space:pre-wrap>!(abs(F2015 - 1) &lt; 1e-08) | (INDYWIDUALNI_2015 &gt; 0)                 </span></td></tr>\n",
              "\t<tr><td>V07</td><td>0</td><td>0</td><td>0</td><td>0</td><td>TRUE</td><td>FALSE</td><td>!(abs(F2005 - 1) &lt; 1e-08 &amp; wiek2005 &gt;= 16) | (INDYWIDUALNI_2005 &gt; 0)</td></tr>\n",
              "\t<tr><td>V08</td><td>0</td><td>0</td><td>0</td><td>0</td><td>TRUE</td><td>FALSE</td><td>!(abs(F2007 - 1) &lt; 1e-08 &amp; wiek2007 &gt;= 16) | (INDYWIDUALNI_2007 &gt; 0)</td></tr>\n",
              "\t<tr><td>V09</td><td>0</td><td>0</td><td>0</td><td>0</td><td>TRUE</td><td>FALSE</td><td>!(abs(F2009 - 1) &lt; 1e-08 &amp; wiek2009 &gt;= 16) | (INDYWIDUALNI_2009 &gt; 0)</td></tr>\n",
              "\t<tr><td>V10</td><td>0</td><td>0</td><td>0</td><td>0</td><td>TRUE</td><td>FALSE</td><td>!(abs(F2011 - 1) &lt; 1e-08 &amp; wiek2011 &gt;= 16) | (INDYWIDUALNI_2011 &gt; 0)</td></tr>\n",
              "\t<tr><td>V11</td><td>0</td><td>0</td><td>0</td><td>0</td><td>TRUE</td><td>FALSE</td><td>!(abs(F2013 - 1) &lt; 1e-08 &amp; wiek2013 &gt;= 16) | (INDYWIDUALNI_2013 &gt; 0)</td></tr>\n",
              "\t<tr><td>V12</td><td>0</td><td>0</td><td>0</td><td>0</td><td>TRUE</td><td>FALSE</td><td>!(abs(F2015 - 1) &lt; 1e-08 &amp; wiek2015 &gt;= 16) | (INDYWIDUALNI_2015 &gt; 0)</td></tr>\n",
              "\t<tr><td>V13</td><td>0</td><td>0</td><td>0</td><td>0</td><td>TRUE</td><td>FALSE</td><td><span style=white-space:pre-wrap>!(abs(INDYWIDUALNI_2015 - 1) &lt; 1e-08) | (partie_2015 &gt; 0)           </span></td></tr>\n",
              "</tbody>\n",
              "</table>\n"
            ]
          },
          "metadata": {
            "tags": []
          }
        }
      ]
    },
    {
      "cell_type": "code",
      "metadata": {
        "id": "_utABbwcAIvp"
      },
      "source": [
        "osoby_df %>%\n",
        "  mutate(WAGA_2005_IND = ifelse(INDYWIDUALNI_2005 == 1, WAGA_2005_IND, 0),\n",
        "         WAGA_2007_IND = ifelse(INDYWIDUALNI_2007 == 1, WAGA_2007_IND, 0),\n",
        "         WAGA_2009_IND = ifelse(INDYWIDUALNI_2009 == 1, WAGA_2009_IND, 0),\n",
        "         WAGA_2011_IND = ifelse(INDYWIDUALNI_2011 == 1, WAGA_2011_IND, 0),\n",
        "         WAGA_2013_IND = ifelse(INDYWIDUALNI_2013 == 1, WAGA_2013_IND, 0),\n",
        "         WAGA_2015_IND = ifelse(INDYWIDUALNI_2015 == 1, WAGA_2015_IND, 0)) %>% \n",
        "  ## usuwam błędne wartości\n",
        "  mutate_at(vars(zadfin_2015, partie_2015, niestab_2015, zadprac_2015, udane_2015, udane2_2015, rowndoch_2015,\n",
        "                 locinni_2015, loclos_2015, losint_2015, pozwyk_2015, inedu_2015, incsource_2015, occup_2015),\n",
        "            list(~if_else(INDYWIDUALNI_2015 == 1, ., -9))) %>%\n",
        "  mutate_at(vars(zadfin_2013, partie_2013, niestab_2013, zadprac_2013, udane_2013, udane2_2013, rowndoch_2013,\n",
        "                 locinni_2013, loclos_2013, losint_2013, pozwyk_2013, inedu_2013, incsource_2013, occup_2013),\n",
        "            list(~if_else(INDYWIDUALNI_2013 == 1, ., -9))) %>%\n",
        "  mutate_at(vars(zadfin_2011, partie_2011, niestab_2011, zadprac_2011, udane_2011, udane2_2011, rowndoch_2011,\n",
        "                 locinni_2011, loclos_2011, losint_2011, pozwyk_2011, inedu_2011, incsource_2011, occup_2011),\n",
        "            list(~if_else(INDYWIDUALNI_2011 == 1, ., -9))) %>%\n",
        "  mutate_at(vars(zadfin_2009, niestab_2009, zadprac_2009, udane_2009, udane2_2009, rowndoch_2009,\n",
        "                 locinni_2009, loclos_2009, losint_2009, pozwyk_2009, inedu_2009, incsource_2009, occup_2009),\n",
        "            list(~if_else(INDYWIDUALNI_2009 == 1, ., -9)))  -> osoby_df"
      ],
      "execution_count": 11,
      "outputs": []
    },
    {
      "cell_type": "code",
      "metadata": {
        "colab": {
          "base_uri": "https://localhost:8080/"
        },
        "id": "_wilUTe1AK4S",
        "outputId": "62c9d3ac-3b80-477d-cc05-8d978f86468d"
      },
      "source": [
        "osoby_df %>%\n",
        "  gather(vars, vals, -gosp_id, -person_id, -sex, -woj, -klm, -person_num) %>%\n",
        "  separate(vars, c('zm','rok'), sep = \"_\") %>% \n",
        "  spread(zm, vals) %>%\n",
        "  filter(rok %in% 2009:2015, \n",
        "         f == 1, INDYWIDUALNI == 1, \n",
        "         WAGA > 0, wiek >= 16) %>% \n",
        "  select(gosp_id:rok, wiek, WAGA, everything()) %>%\n",
        "  setNames(tolower(names(.))) %>%\n",
        "  select(-f, -indywidualni) %>%\n",
        "  left_join(gosp_cleaned %>% \n",
        "              rename(waga_gosp = waga,\n",
        "                     klm_gosp = klm,\n",
        "                     woj_gosp = woj,\n",
        "                     pow_gosp  = pow,\n",
        "                     rok = fala,\n",
        "                     l_osob_gosp = l_osob)) -> os_df \n",
        "            \n",
        " #\n",
        "os_df  %>%\n",
        "  mutate(flag = !(gosp_id == 47482 & unclass(klm_gosp) == 4)) %>%\n",
        "  filter(flag) -> os_df"
      ],
      "execution_count": null,
      "outputs": [
        {
          "output_type": "stream",
          "text": [
            "Warning message:\n",
            "“attributes are not identical across measure variables;\n",
            "they will be dropped”\n"
          ],
          "name": "stderr"
        }
      ]
    },
    {
      "cell_type": "code",
      "metadata": {
        "id": "bdYlE4kIANHV"
      },
      "source": [
        "os_df %>%\n",
        "  filter(!praca %in% c(3, 4, 5, NA, -8), rok %in% 2009:2015, !is.na(woj), zadfin != 7, niestab != 4) %>%\n",
        "  #mutate_at(vars(klm, klm_gosp, rok, sex, woj, woj_gosp), as.numeric) %>%\n",
        "  mutate_all(funs(ifelse(unclass(.) <0 , NA, unclass(.)))) %>%\n",
        "  mutate(bezrej = replace_na(bezrrej, 0),\n",
        "         bezr = replace_na(bezr, 0)) -> data_for_model ## nie dotyczy -- braki w dochodzie (brak dochodów  \n",
        "  \n",
        "data_for_model %>% head()"
      ],
      "execution_count": null,
      "outputs": []
    },
    {
      "cell_type": "code",
      "metadata": {
        "id": "bnNqD_XSAQwg"
      },
      "source": [
        "data_for_model_imp <- data_for_model %>%\n",
        "  mutate_at(vars(sex,woj, klm, demo, eduk4:pow_gosp), factor)"
      ],
      "execution_count": null,
      "outputs": []
    },
    {
      "cell_type": "code",
      "metadata": {
        "id": "wIqHS_VAARcn"
      },
      "source": [
        "VIM::aggr(data_for_model_imp)"
      ],
      "execution_count": null,
      "outputs": []
    },
    {
      "cell_type": "code",
      "metadata": {
        "id": "hBF00qctATGa"
      },
      "source": [
        "cols_names <- c(\"sex\",\"wiek\", \"rok\", \"woj\", \"klm\", \"demo\", \"eduk4\", \"niestab\", \"partie\", \"praca\",\n",
        "                \"rowndoch\", \"sejm\", \"status9\", \"udane\", \"udane2\", \"zadfin\", \"zadprac\",\n",
        "                \"locinni\", \"loclos\", \"losint\", \"incsource\", \"inedu\")\n",
        "data_for_model_imp <- kNN(data = data_for_model_imp, \n",
        "                          variable = cols_names, \n",
        "                          dist_var = cols_names, \n",
        "                          k = 1, \n",
        "                          trace = TRUE)"
      ],
      "execution_count": null,
      "outputs": []
    },
    {
      "cell_type": "code",
      "metadata": {
        "id": "zgWR1214AX3e"
      },
      "source": [
        "data_for_model_imp <- data_for_model_imp %>%\n",
        "  select(-ends_with(\"imp\")) %>%\n",
        "  mutate(gov_support = case_when(rok == 2009 ~ NA_real_, \n",
        "                                 rok == 2011 & partie == 5 ~ 1,\n",
        "                                 rok == 2013 & partie == 7 ~ 1,\n",
        "                                 rok == 2015 & partie == 1 ~ 1,\n",
        "                                 TRUE ~ 0 ),\n",
        "         inq_equal = case_when(rok == 2009 & rowndoch %in% 1:3 ~ 1,\n",
        "                               rok == 2011 & rowndoch %in% 1:3 ~ 1,\n",
        "                               rok == 2013 & rowndoch %in% 1:3 ~ 1,\n",
        "                               rok == 2015 & rowndoch %in% 1:3 ~ 1,\n",
        "                               TRUE ~ 0 ),\n",
        "         gov_respons = udane == 2 & udane2 == 1,\n",
        "         public = as.numeric(status9 == 1),\n",
        "         gov_respons = as.numeric(gov_respons),\n",
        "         praca2 = case_when(praca == 1 ~ \"Fixed_temp\",\n",
        "                            praca == 2 ~ \"Permanent\", \n",
        "                            TRUE ~ \"Other_temp\"),\n",
        "         klm2 = case_when(klm == 6 ~ 1,\n",
        "                          klm == 1 ~ 2,\n",
        "                          TRUE ~ 3),\n",
        "         klm2 = factor(klm2),\n",
        "         ex_loc_control = udane2 == 1 | locinni == 1 | loclos == 1,\n",
        "         in_loc_control = losint == 1,\n",
        "         wyzsze = pozwyk %in% c(10,11,12),\n",
        "         wyksz_5 = case_when(pozwyk %in% c(60, 70) ~ \"basic or none\",\n",
        "                             pozwyk %in% c(51) ~ \"gminazj\",\n",
        "                             pozwyk %in% c(50) ~ \"vocational\",\n",
        "                             pozwyk %in% c(20, 30, 40) ~ \"second\",\n",
        "                             pozwyk %in% c(10, 11, 20, 30) ~ \"higher\"),\n",
        "         praca2 = factor(praca2),  praca2 = relevel(praca2, ref = \"Permanent\"),\n",
        "         niestab = factor(niestab, 1:3, c(\"often\", \"some\", \"never\")),\n",
        "         zadfin2 = case_when(zadfin %in% 1:2 ~ \"pos\", zadfin %in% 3:4 ~ \"neu\", zadfin %in% 5:6 ~ \"neg\"),\n",
        "         zadfin2 = factor(zadfin2),\n",
        "         zadprac2 = case_when(zadprac %in% 1:2 ~ \"pos\", zadprac %in% 3:4 ~ \"neu\", zadprac %in% 5:6 ~ \"neg\"),\n",
        "         zadprac2 = factor(zadprac2),\n",
        "         demo2 = demo == 1,\n",
        "         inedu2 = case_when(inedu == 2 ~ 1, inedu == 3 ~ 2, inedu %in% c(4,5) ~ 3, inedu %in% c(1,8) ~ 4),\n",
        "         incsource2 = case_when(incsource %in% c(11, 12, 13, 14, 15, 16, 17, 18, 19, 20) ~ 1,\n",
        "                                incsource %in% c(21, 22, 37) ~ 2,\n",
        "                                incsource %in% c(23, 24, 25, 26, 27, 28, 29, 30, 31, 32, 33, 34) ~ 3,\n",
        "                                incsource %in% c(35, 36, 38, 39, 40, 41, 42) ~ 4,\n",
        "                                incsource %in% c(43) ~ 5))\n"
      ],
      "execution_count": null,
      "outputs": []
    },
    {
      "cell_type": "code",
      "metadata": {
        "id": "_RLLOVSkAYiv"
      },
      "source": [
        "saveRDS(data_for_model_imp, file = \"data/data_for_model_2009_2015.rds\")"
      ],
      "execution_count": null,
      "outputs": []
    }
  ]
}