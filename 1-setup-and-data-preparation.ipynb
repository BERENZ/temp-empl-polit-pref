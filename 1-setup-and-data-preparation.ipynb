{
  "nbformat": 4,
  "nbformat_minor": 0,
  "metadata": {
    "colab": {
      "name": "temp-empl-polit-pref.ipynb",
      "provenance": [],
      "authorship_tag": "ABX9TyPCC0SQTfo6c5P8tpZsLn1c",
      "include_colab_link": true
    },
    "kernelspec": {
      "name": "ir",
      "display_name": "R"
    }
  },
  "cells": [
    {
      "cell_type": "markdown",
      "metadata": {
        "id": "view-in-github",
        "colab_type": "text"
      },
      "source": [
        "<a href=\"https://colab.research.google.com/github/BERENZ/temp-empl-polit-pref/blob/main/1-setup-and-data-preparation.ipynb\" target=\"_parent\"><img src=\"https://colab.research.google.com/assets/colab-badge.svg\" alt=\"Open In Colab\"/></a>"
      ]
    },
    {
      "cell_type": "code",
      "metadata": {
        "colab": {
          "base_uri": "https://localhost:8080/"
        },
        "id": "ZY3_264u-YEv",
        "outputId": "29c854cc-59d7-4f71-e96c-a71b10d1c4e3"
      },
      "source": [
        "install.packages(\"tidyverse\")\n",
        "install.packages(\"data.table\")\n",
        "install.packages(\"lmtest\")\n",
        "install.packages(\"sandwich\")\n",
        "install.packages(\"survey\")\n",
        "install.packages(\"broom\")\n",
        "install.packages(\"stringi\")\n",
        "install.packages(\"validate\")\n",
        "install.packages(\"VIM\")\n",
        "install.packages(\"haven\")\n",
        "install.packages(\"lme4\")\n",
        "install.packages(\"lmerTest\")\n",
        "install.packages(\"bife\")"
      ],
      "execution_count": null,
      "outputs": [
        {
          "output_type": "stream",
          "text": [
            "Installing package into ‘/usr/local/lib/R/site-library’\n",
            "(as ‘lib’ is unspecified)\n",
            "\n",
            "Installing package into ‘/usr/local/lib/R/site-library’\n",
            "(as ‘lib’ is unspecified)\n",
            "\n",
            "Installing package into ‘/usr/local/lib/R/site-library’\n",
            "(as ‘lib’ is unspecified)\n",
            "\n",
            "also installing the dependency ‘zoo’\n",
            "\n",
            "\n",
            "Installing package into ‘/usr/local/lib/R/site-library’\n",
            "(as ‘lib’ is unspecified)\n",
            "\n",
            "Installing package into ‘/usr/local/lib/R/site-library’\n",
            "(as ‘lib’ is unspecified)\n",
            "\n",
            "also installing the dependencies ‘minqa’, ‘numDeriv’, ‘mitools’\n",
            "\n",
            "\n",
            "Installing package into ‘/usr/local/lib/R/site-library’\n",
            "(as ‘lib’ is unspecified)\n",
            "\n",
            "Installing package into ‘/usr/local/lib/R/site-library’\n",
            "(as ‘lib’ is unspecified)\n",
            "\n"
          ],
          "name": "stderr"
        }
      ]
    },
    {
      "cell_type": "code",
      "metadata": {
        "id": "wD2cYqnk-l1H"
      },
      "source": [
        "## structure of the project\n",
        "if (!dir.exists(\"codes\")) dir.create(\"codes\")\n",
        "if (!dir.exists(\"results\")) dir.create(\"results\")\n",
        "if (!dir.exists(\"data\")) dir.create(\"data\")\n",
        "if (!dir.exists(\"data-raw\")) dir.create(\"data-raw\")\n",
        "\n",
        "## download data from Diagnoza.com\n",
        "if (!file.exists(\"data-raw/hh_data.sav\")) {\n",
        "  download.file(\"http://diagnoza.com/pliki/bazy_danych/2015/ds_0_15_GD_14112015.sav\", destfile = \"data-raw/hh_data.sav\") \n",
        "  gosp <- haven::read_spss(\"data-raw/hh_data.sav\", user_na = TRUE)\n",
        "  saveRDS(gosp, file = \"data/hh_data.RDS\")\n",
        "}\n",
        "if (!file.exists(\"data-raw/ind_data.sav\")) {\n",
        "  download.file(\"http://diagnoza.com/pliki/bazy_danych/2015/ds_0_15_ind_14112015.sav\", destfile = \"data-raw/ind_data.sav\") \n",
        "  osob <- haven::read_spss(\"data-raw/ind_data.sav\", user_na = TRUE)\n",
        "  saveRDS(osob, file = \"data/ind_data.RDS\")\n",
        "}"
      ],
      "execution_count": null,
      "outputs": []
    },
    {
      "cell_type": "code",
      "metadata": {
        "id": "aLB58pUH-pXZ"
      },
      "source": [
        "gosp <- readRDS(\"data/hh_data.RDS\")\n",
        "osob <- readRDS(\"data/ind_data.RDS\")"
      ],
      "execution_count": null,
      "outputs": []
    }
  ]
}